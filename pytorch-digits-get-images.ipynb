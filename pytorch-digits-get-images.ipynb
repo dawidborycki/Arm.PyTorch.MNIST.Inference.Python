{
 "cells": [
  {
   "cell_type": "code",
   "execution_count": 2,
   "metadata": {},
   "outputs": [
    {
     "name": "stdout",
     "output_type": "stream",
     "text": [
      "Saved: mnist_bitmaps/07_00.png\n",
      "Saved: mnist_bitmaps/02_00.png\n",
      "Saved: mnist_bitmaps/01_00.png\n",
      "Saved: mnist_bitmaps/00_00.png\n",
      "Saved: mnist_bitmaps/04_00.png\n",
      "Saved: mnist_bitmaps/01_01.png\n",
      "Saved: mnist_bitmaps/04_01.png\n",
      "Saved: mnist_bitmaps/09_00.png\n",
      "Saved: mnist_bitmaps/05_00.png\n",
      "Saved: mnist_bitmaps/09_01.png\n",
      "Saved: mnist_bitmaps/00_01.png\n",
      "Saved: mnist_bitmaps/06_00.png\n",
      "Saved: mnist_bitmaps/05_01.png\n",
      "Saved: mnist_bitmaps/07_01.png\n",
      "Saved: mnist_bitmaps/03_00.png\n",
      "Saved: mnist_bitmaps/06_01.png\n",
      "Saved: mnist_bitmaps/03_01.png\n",
      "Saved: mnist_bitmaps/02_01.png\n",
      "Saved: mnist_bitmaps/08_00.png\n",
      "Saved: mnist_bitmaps/08_01.png\n"
     ]
    }
   ],
   "source": [
    "from torchvision import datasets, transforms\n",
    "from PIL import Image\n",
    "import os\n",
    "\n",
    "# Constants\n",
    "NUM_DIGITS = 10  # Number of unique digits in MNIST (0-9)\n",
    "EXAMPLES_PER_DIGIT = 2  # Number of examples per digit\n",
    "\n",
    "# Define the transformation to convert the image to a tensor\n",
    "transform = transforms.Compose([transforms.ToTensor()])\n",
    "\n",
    "# Load the MNIST test dataset\n",
    "test_data = datasets.MNIST(\n",
    "    root=\"data\",\n",
    "    train=False,\n",
    "    download=True,\n",
    "    transform=transform\n",
    ")\n",
    "\n",
    "# Create a directory to save the bitmaps\n",
    "os.makedirs(\"mnist_bitmaps\", exist_ok=True)\n",
    "\n",
    "# Dictionary to keep track of collected examples per digit\n",
    "collected_examples = {digit: 0 for digit in range(NUM_DIGITS)}\n",
    "\n",
    "# Loop through the dataset and collect the required number of images\n",
    "for i, (image, label) in enumerate(test_data):\n",
    "    if collected_examples[label] < EXAMPLES_PER_DIGIT:\n",
    "        # Convert tensor to PIL image\n",
    "        pil_image = transforms.ToPILImage()(image)\n",
    "        # Create the filename with zero-padding\n",
    "        filename = f\"mnist_bitmaps/{label:02d}_{collected_examples[label]:02d}.png\"\n",
    "        # Save the image as PNG\n",
    "        pil_image.save(filename)\n",
    "        print(f\"Saved: {filename}\")\n",
    "\n",
    "        # Update the count for the current label\n",
    "        collected_examples[label] += 1\n",
    "\n",
    "    # Break the loop if all required examples are collected\n",
    "    if all(count == EXAMPLES_PER_DIGIT for count in collected_examples.values()):\n",
    "        break"
   ]
  }
 ],
 "metadata": {
  "kernelspec": {
   "display_name": "pytorch-env",
   "language": "python",
   "name": "pytorch-env"
  },
  "language_info": {
   "codemirror_mode": {
    "name": "ipython",
    "version": 3
   },
   "file_extension": ".py",
   "mimetype": "text/x-python",
   "name": "python",
   "nbconvert_exporter": "python",
   "pygments_lexer": "ipython3",
   "version": "3.10.11"
  }
 },
 "nbformat": 4,
 "nbformat_minor": 2
}
