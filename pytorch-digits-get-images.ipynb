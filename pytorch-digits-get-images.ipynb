{
 "cells": [
  {
   "cell_type": "code",
   "execution_count": 1,
   "metadata": {},
   "outputs": [
    {
     "name": "stdout",
     "output_type": "stream",
     "text": [
      "Saved: mnist_bitmaps/07_00.png\n",
      "Saved: mnist_bitmaps/02_01.png\n",
      "Saved: mnist_bitmaps/01_02.png\n",
      "Saved: mnist_bitmaps/00_03.png\n",
      "Saved: mnist_bitmaps/04_04.png\n",
      "Saved: mnist_bitmaps/01_05.png\n",
      "Saved: mnist_bitmaps/04_06.png\n",
      "Saved: mnist_bitmaps/09_07.png\n",
      "Saved: mnist_bitmaps/05_08.png\n",
      "Saved: mnist_bitmaps/09_09.png\n",
      "Saved: mnist_bitmaps/00_10.png\n",
      "Saved: mnist_bitmaps/06_11.png\n",
      "Saved: mnist_bitmaps/09_12.png\n",
      "Saved: mnist_bitmaps/00_13.png\n",
      "Saved: mnist_bitmaps/01_14.png\n",
      "Saved: mnist_bitmaps/05_15.png\n",
      "Saved: mnist_bitmaps/09_16.png\n",
      "Saved: mnist_bitmaps/07_17.png\n",
      "Saved: mnist_bitmaps/03_18.png\n",
      "Saved: mnist_bitmaps/04_19.png\n"
     ]
    }
   ],
   "source": [
    "from torchvision import datasets, transforms\n",
    "from PIL import Image\n",
    "import os\n",
    "\n",
    "# Constants\n",
    "NUM_IMAGES = 20  # Number of images to generate\n",
    "\n",
    "# Define the transformation to convert the image to a tensor\n",
    "transform = transforms.Compose([transforms.ToTensor()])\n",
    "\n",
    "# Load the MNIST test dataset\n",
    "test_data = datasets.MNIST(\n",
    "    root=\"data\",\n",
    "    train=False,\n",
    "    download=True,\n",
    "    transform=transform\n",
    ")\n",
    "\n",
    "# Create a directory to save the bitmaps\n",
    "os.makedirs(\"mnist_bitmaps\", exist_ok=True)\n",
    "\n",
    "# Generate and save NUM_IMAGES bitmaps from the test dataset\n",
    "for i in range(NUM_IMAGES):\n",
    "    image, label = test_data[i]  # Get the image and true label\n",
    "    pil_image = transforms.ToPILImage()(image)  # Convert tensor to PIL image\n",
    "    filename = f\"mnist_bitmaps/{label:02d}_{i:02d}.png\"  # Create the filename with zero-padding\n",
    "    pil_image.save(filename)  # Save the image as PNG\n",
    "    print(f\"Saved: {filename}\")"
   ]
  }
 ],
 "metadata": {
  "kernelspec": {
   "display_name": "pytorch-env",
   "language": "python",
   "name": "pytorch-env"
  },
  "language_info": {
   "codemirror_mode": {
    "name": "ipython",
    "version": 3
   },
   "file_extension": ".py",
   "mimetype": "text/x-python",
   "name": "python",
   "nbconvert_exporter": "python",
   "pygments_lexer": "ipython3",
   "version": "3.10.11"
  }
 },
 "nbformat": 4,
 "nbformat_minor": 2
}
